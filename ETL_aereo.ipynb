{
 "cells": [
  {
   "cell_type": "code",
   "execution_count": 283,
   "metadata": {},
   "outputs": [],
   "source": [
    "import pandas as pd\n",
    "from datetime import datetime\n",
    "import re\n",
    "import numpy as np"
   ]
  },
  {
   "cell_type": "code",
   "execution_count": 79,
   "metadata": {},
   "outputs": [],
   "source": [
    "data = pd.read_csv('AccidentesAviones.csv')"
   ]
  },
  {
   "cell_type": "code",
   "execution_count": 199,
   "metadata": {},
   "outputs": [
    {
     "data": {
      "text/html": [
       "<div>\n",
       "<style scoped>\n",
       "    .dataframe tbody tr th:only-of-type {\n",
       "        vertical-align: middle;\n",
       "    }\n",
       "\n",
       "    .dataframe tbody tr th {\n",
       "        vertical-align: top;\n",
       "    }\n",
       "\n",
       "    .dataframe thead th {\n",
       "        text-align: right;\n",
       "    }\n",
       "</style>\n",
       "<table border=\"1\" class=\"dataframe\">\n",
       "  <thead>\n",
       "    <tr style=\"text-align: right;\">\n",
       "      <th></th>\n",
       "      <th>Unnamed: 0</th>\n",
       "      <th>fecha</th>\n",
       "      <th>Hora</th>\n",
       "      <th>Ruta</th>\n",
       "      <th>OperadOR</th>\n",
       "      <th>flight_no</th>\n",
       "      <th>route</th>\n",
       "      <th>Tipo_aeronave</th>\n",
       "      <th>registration</th>\n",
       "      <th>cn_ln</th>\n",
       "      <th>all_aboard</th>\n",
       "      <th>PASAJEROS A BORDO</th>\n",
       "      <th>crew_aboard</th>\n",
       "      <th>cantidad de fallecidos</th>\n",
       "      <th>passenger_fatalities</th>\n",
       "      <th>crew_fatalities</th>\n",
       "      <th>ground</th>\n",
       "      <th>summary</th>\n",
       "      <th>Hora_Minutos</th>\n",
       "      <th>FranjaHoraria</th>\n",
       "    </tr>\n",
       "  </thead>\n",
       "  <tbody>\n",
       "    <tr>\n",
       "      <th>0</th>\n",
       "      <td>0</td>\n",
       "      <td>September 17, 1908</td>\n",
       "      <td>1718</td>\n",
       "      <td>Fort Myer, Virginia</td>\n",
       "      <td>Military - U.S. Army</td>\n",
       "      <td>?</td>\n",
       "      <td>Demonstration</td>\n",
       "      <td>Wright Flyer III</td>\n",
       "      <td>?</td>\n",
       "      <td>1</td>\n",
       "      <td>2</td>\n",
       "      <td>1</td>\n",
       "      <td>1</td>\n",
       "      <td>1</td>\n",
       "      <td>1</td>\n",
       "      <td>0</td>\n",
       "      <td>0</td>\n",
       "      <td>During a demonstration flight, a U.S. Army fly...</td>\n",
       "      <td>17:18</td>\n",
       "      <td>17</td>\n",
       "    </tr>\n",
       "    <tr>\n",
       "      <th>1</th>\n",
       "      <td>1</td>\n",
       "      <td>September 07, 1909</td>\n",
       "      <td>?</td>\n",
       "      <td>Juvisy-sur-Orge, France</td>\n",
       "      <td>?</td>\n",
       "      <td>?</td>\n",
       "      <td>Air show</td>\n",
       "      <td>Wright Byplane</td>\n",
       "      <td>SC1</td>\n",
       "      <td>?</td>\n",
       "      <td>1</td>\n",
       "      <td>0</td>\n",
       "      <td>1</td>\n",
       "      <td>1</td>\n",
       "      <td>0</td>\n",
       "      <td>0</td>\n",
       "      <td>0</td>\n",
       "      <td>Eugene Lefebvre was the first pilot to ever be...</td>\n",
       "      <td>None</td>\n",
       "      <td>None</td>\n",
       "    </tr>\n",
       "    <tr>\n",
       "      <th>2</th>\n",
       "      <td>2</td>\n",
       "      <td>July 12, 1912</td>\n",
       "      <td>0630</td>\n",
       "      <td>Atlantic City, New Jersey</td>\n",
       "      <td>Military - U.S. Navy</td>\n",
       "      <td>?</td>\n",
       "      <td>Test flight</td>\n",
       "      <td>Dirigible</td>\n",
       "      <td>?</td>\n",
       "      <td>?</td>\n",
       "      <td>5</td>\n",
       "      <td>0</td>\n",
       "      <td>5</td>\n",
       "      <td>5</td>\n",
       "      <td>0</td>\n",
       "      <td>5</td>\n",
       "      <td>0</td>\n",
       "      <td>First U.S. dirigible Akron exploded just offsh...</td>\n",
       "      <td>06:30</td>\n",
       "      <td>06</td>\n",
       "    </tr>\n",
       "    <tr>\n",
       "      <th>3</th>\n",
       "      <td>3</td>\n",
       "      <td>August 06, 1913</td>\n",
       "      <td>?</td>\n",
       "      <td>Victoria, British Columbia, Canada</td>\n",
       "      <td>Private</td>\n",
       "      <td>?</td>\n",
       "      <td>?</td>\n",
       "      <td>Curtiss seaplane</td>\n",
       "      <td>?</td>\n",
       "      <td>?</td>\n",
       "      <td>1</td>\n",
       "      <td>0</td>\n",
       "      <td>1</td>\n",
       "      <td>1</td>\n",
       "      <td>0</td>\n",
       "      <td>1</td>\n",
       "      <td>0</td>\n",
       "      <td>The first fatal airplane accident in Canada oc...</td>\n",
       "      <td>None</td>\n",
       "      <td>None</td>\n",
       "    </tr>\n",
       "    <tr>\n",
       "      <th>4</th>\n",
       "      <td>4</td>\n",
       "      <td>September 09, 1913</td>\n",
       "      <td>1830</td>\n",
       "      <td>Over the North Sea</td>\n",
       "      <td>Military - German Navy</td>\n",
       "      <td>?</td>\n",
       "      <td>?</td>\n",
       "      <td>Zeppelin L-1 (airship)</td>\n",
       "      <td>?</td>\n",
       "      <td>?</td>\n",
       "      <td>20</td>\n",
       "      <td>?</td>\n",
       "      <td>?</td>\n",
       "      <td>14</td>\n",
       "      <td>?</td>\n",
       "      <td>?</td>\n",
       "      <td>0</td>\n",
       "      <td>The airship flew into a thunderstorm and encou...</td>\n",
       "      <td>18:30</td>\n",
       "      <td>18</td>\n",
       "    </tr>\n",
       "  </tbody>\n",
       "</table>\n",
       "</div>"
      ],
      "text/plain": [
       "   Unnamed: 0               fecha  Hora                                Ruta   \n",
       "0           0  September 17, 1908  1718                 Fort Myer, Virginia  \\\n",
       "1           1  September 07, 1909     ?             Juvisy-sur-Orge, France   \n",
       "2           2       July 12, 1912  0630           Atlantic City, New Jersey   \n",
       "3           3     August 06, 1913     ?  Victoria, British Columbia, Canada   \n",
       "4           4  September 09, 1913  1830                  Over the North Sea   \n",
       "\n",
       "                 OperadOR flight_no          route           Tipo_aeronave   \n",
       "0    Military - U.S. Army         ?  Demonstration        Wright Flyer III  \\\n",
       "1                       ?         ?       Air show          Wright Byplane   \n",
       "2    Military - U.S. Navy         ?    Test flight               Dirigible   \n",
       "3                 Private         ?              ?        Curtiss seaplane   \n",
       "4  Military - German Navy         ?              ?  Zeppelin L-1 (airship)   \n",
       "\n",
       "  registration cn_ln all_aboard PASAJEROS A BORDO crew_aboard   \n",
       "0            ?     1          2                 1           1  \\\n",
       "1          SC1     ?          1                 0           1   \n",
       "2            ?     ?          5                 0           5   \n",
       "3            ?     ?          1                 0           1   \n",
       "4            ?     ?         20                 ?           ?   \n",
       "\n",
       "  cantidad de fallecidos passenger_fatalities crew_fatalities ground   \n",
       "0                      1                    1               0      0  \\\n",
       "1                      1                    0               0      0   \n",
       "2                      5                    0               5      0   \n",
       "3                      1                    0               1      0   \n",
       "4                     14                    ?               ?      0   \n",
       "\n",
       "                                             summary Hora_Minutos   \n",
       "0  During a demonstration flight, a U.S. Army fly...        17:18  \\\n",
       "1  Eugene Lefebvre was the first pilot to ever be...         None   \n",
       "2  First U.S. dirigible Akron exploded just offsh...        06:30   \n",
       "3  The first fatal airplane accident in Canada oc...         None   \n",
       "4  The airship flew into a thunderstorm and encou...        18:30   \n",
       "\n",
       "  FranjaHoraria  \n",
       "0            17  \n",
       "1          None  \n",
       "2            06  \n",
       "3          None  \n",
       "4            18  "
      ]
     },
     "execution_count": 199,
     "metadata": {},
     "output_type": "execute_result"
    }
   ],
   "source": [
    "data.head()"
   ]
  },
  {
   "cell_type": "code",
   "execution_count": 200,
   "metadata": {},
   "outputs": [],
   "source": [
    "data.rename(columns={'Unnamed: 0': 'No.'}, inplace=True)\n"
   ]
  },
  {
   "cell_type": "code",
   "execution_count": 234,
   "metadata": {},
   "outputs": [
    {
     "name": "stdout",
     "output_type": "stream",
     "text": [
      "<class 'pandas.core.frame.DataFrame'>\n",
      "RangeIndex: 5008 entries, 0 to 5007\n",
      "Data columns (total 21 columns):\n",
      " #   Column                  Non-Null Count  Dtype         \n",
      "---  ------                  --------------  -----         \n",
      " 0   No.                     5008 non-null   int64         \n",
      " 1   fecha                   5008 non-null   datetime64[ns]\n",
      " 2   Hora                    5008 non-null   object        \n",
      " 3   Ruta                    5008 non-null   object        \n",
      " 4   OperadOR                5008 non-null   object        \n",
      " 5   flight_no               5008 non-null   object        \n",
      " 6   route                   5007 non-null   object        \n",
      " 7   Tipo_aeronave           5008 non-null   object        \n",
      " 8   registration            5008 non-null   object        \n",
      " 9   cn_ln                   5008 non-null   object        \n",
      " 10  all_aboard              5008 non-null   object        \n",
      " 11  PASAJEROS A BORDO       5008 non-null   object        \n",
      " 12  crew_aboard             5008 non-null   object        \n",
      " 13  cantidad de fallecidos  5008 non-null   object        \n",
      " 14  passenger_fatalities    5008 non-null   object        \n",
      " 15  crew_fatalities         5008 non-null   object        \n",
      " 16  ground                  5008 non-null   object        \n",
      " 17  summary                 5008 non-null   object        \n",
      " 18  Hora_Minutos            3501 non-null   object        \n",
      " 19  FranjaHoraria           3501 non-null   object        \n",
      " 20  año                     5008 non-null   int32         \n",
      "dtypes: datetime64[ns](1), int32(1), int64(1), object(18)\n",
      "memory usage: 802.2+ KB\n"
     ]
    }
   ],
   "source": [
    "#Obtenemos informacion de la data\n",
    "data.info()"
   ]
  },
  {
   "cell_type": "code",
   "execution_count": 5,
   "metadata": {},
   "outputs": [
    {
     "data": {
      "text/plain": [
       "Unnamed: 0                0\n",
       "fecha                     0\n",
       "HORA declarada            0\n",
       "Ruta                      0\n",
       "OperadOR                  0\n",
       "flight_no                 0\n",
       "route                     1\n",
       "ac_type                   0\n",
       "registration              0\n",
       "cn_ln                     0\n",
       "all_aboard                0\n",
       "PASAJEROS A BORDO         0\n",
       "crew_aboard               0\n",
       "cantidad de fallecidos    0\n",
       "passenger_fatalities      0\n",
       "crew_fatalities           0\n",
       "ground                    0\n",
       "summary                   0\n",
       "dtype: int64"
      ]
     },
     "execution_count": 5,
     "metadata": {},
     "output_type": "execute_result"
    }
   ],
   "source": [
    "data.isnull().sum()"
   ]
  },
  {
   "cell_type": "code",
   "execution_count": 229,
   "metadata": {},
   "outputs": [
    {
     "data": {
      "text/plain": [
       "No.                          0\n",
       "fecha                        0\n",
       "Hora                      1504\n",
       "Ruta                         5\n",
       "OperadOR                    10\n",
       "flight_no                 3682\n",
       "route                      762\n",
       "Tipo_aeronave               13\n",
       "registration               272\n",
       "cn_ln                      667\n",
       "all_aboard                  17\n",
       "PASAJEROS A BORDO          221\n",
       "crew_aboard                219\n",
       "cantidad de fallecidos       8\n",
       "passenger_fatalities       235\n",
       "crew_fatalities            235\n",
       "ground                      44\n",
       "summary                     59\n",
       "Hora_Minutos                 0\n",
       "FranjaHoraria                0\n",
       "dtype: int64"
      ]
     },
     "execution_count": 229,
     "metadata": {},
     "output_type": "execute_result"
    }
   ],
   "source": [
    "data[data=='?'].count()"
   ]
  },
  {
   "cell_type": "code",
   "execution_count": 231,
   "metadata": {},
   "outputs": [],
   "source": [
    "data['fecha'] = pd.to_datetime(data['fecha'], format='%B %d, %Y')\n"
   ]
  },
  {
   "cell_type": "code",
   "execution_count": 233,
   "metadata": {},
   "outputs": [],
   "source": [
    "data['año'] = data['fecha'].dt.year\n"
   ]
  },
  {
   "cell_type": "code",
   "execution_count": 9,
   "metadata": {},
   "outputs": [
    {
     "data": {
      "text/plain": [
       "count    5008.000000\n",
       "mean     1970.851637\n",
       "std        24.703696\n",
       "min      1908.000000\n",
       "25%      1951.000000\n",
       "50%      1970.000000\n",
       "75%      1992.000000\n",
       "max      2021.000000\n",
       "Name: año, dtype: float64"
      ]
     },
     "execution_count": 9,
     "metadata": {},
     "output_type": "execute_result"
    }
   ],
   "source": [
    "data['año'].describe()"
   ]
  },
  {
   "cell_type": "code",
   "execution_count": 247,
   "metadata": {},
   "outputs": [],
   "source": [
    "Año = data[['No.','año']].copy()"
   ]
  },
  {
   "cell_type": "code",
   "execution_count": 248,
   "metadata": {},
   "outputs": [
    {
     "name": "stdout",
     "output_type": "stream",
     "text": [
      "<class 'pandas.core.frame.DataFrame'>\n",
      "RangeIndex: 5008 entries, 0 to 5007\n",
      "Data columns (total 2 columns):\n",
      " #   Column  Non-Null Count  Dtype\n",
      "---  ------  --------------  -----\n",
      " 0   No.     5008 non-null   int64\n",
      " 1   año     5008 non-null   int32\n",
      "dtypes: int32(1), int64(1)\n",
      "memory usage: 58.8 KB\n"
     ]
    }
   ],
   "source": [
    "Año.info()"
   ]
  },
  {
   "cell_type": "code",
   "execution_count": 249,
   "metadata": {},
   "outputs": [],
   "source": [
    "Año.to_csv('Año.csv')"
   ]
  },
  {
   "cell_type": "code",
   "execution_count": 72,
   "metadata": {},
   "outputs": [
    {
     "data": {
      "text/plain": [
       "0        1718\n",
       "1           ?\n",
       "2        0630\n",
       "3           ?\n",
       "4        1830\n",
       "        ...  \n",
       "5003     1835\n",
       "5004     1800\n",
       "5005     0800\n",
       "5006    11:30\n",
       "5007     1500\n",
       "Name: HORA declarada, Length: 5008, dtype: object"
      ]
     },
     "execution_count": 72,
     "metadata": {},
     "output_type": "execute_result"
    }
   ],
   "source": [
    "# Revisamos la columna HORA declarada\n",
    "data['HORA declarada']\n"
   ]
  },
  {
   "cell_type": "code",
   "execution_count": 74,
   "metadata": {},
   "outputs": [
    {
     "data": {
      "text/plain": [
       "0    1718\n",
       "1       ?\n",
       "2    0630\n",
       "3       ?\n",
       "4    1830\n",
       "Name: HORA declarada, dtype: object"
      ]
     },
     "execution_count": 74,
     "metadata": {},
     "output_type": "execute_result"
    }
   ],
   "source": [
    "data['HORA declarada'].head()\n",
    "\n"
   ]
  },
  {
   "cell_type": "code",
   "execution_count": 80,
   "metadata": {},
   "outputs": [
    {
     "data": {
      "text/plain": [
       "0        1718\n",
       "1           ?\n",
       "2        0630\n",
       "3           ?\n",
       "4        1830\n",
       "        ...  \n",
       "5003     1835\n",
       "5004     1800\n",
       "5005     0800\n",
       "5006    11:30\n",
       "5007     1500\n",
       "Name: Hora, Length: 5008, dtype: object"
      ]
     },
     "execution_count": 80,
     "metadata": {},
     "output_type": "execute_result"
    }
   ],
   "source": [
    "# Renombramos la columna a 'Hora'\n",
    "data.rename(columns={'HORA declarada': 'Hora'}, inplace=True)\n",
    "data['Hora']\n"
   ]
  },
  {
   "cell_type": "code",
   "execution_count": 93,
   "metadata": {},
   "outputs": [
    {
     "data": {
      "text/html": [
       "<div>\n",
       "<style scoped>\n",
       "    .dataframe tbody tr th:only-of-type {\n",
       "        vertical-align: middle;\n",
       "    }\n",
       "\n",
       "    .dataframe tbody tr th {\n",
       "        vertical-align: top;\n",
       "    }\n",
       "\n",
       "    .dataframe thead th {\n",
       "        text-align: right;\n",
       "    }\n",
       "</style>\n",
       "<table border=\"1\" class=\"dataframe\">\n",
       "  <thead>\n",
       "    <tr style=\"text-align: right;\">\n",
       "      <th></th>\n",
       "      <th>Unnamed: 0</th>\n",
       "      <th>fecha</th>\n",
       "      <th>Hora</th>\n",
       "      <th>Ruta</th>\n",
       "      <th>OperadOR</th>\n",
       "      <th>flight_no</th>\n",
       "      <th>route</th>\n",
       "      <th>ac_type</th>\n",
       "      <th>registration</th>\n",
       "      <th>cn_ln</th>\n",
       "      <th>all_aboard</th>\n",
       "      <th>PASAJEROS A BORDO</th>\n",
       "      <th>crew_aboard</th>\n",
       "      <th>cantidad de fallecidos</th>\n",
       "      <th>passenger_fatalities</th>\n",
       "      <th>crew_fatalities</th>\n",
       "      <th>ground</th>\n",
       "      <th>summary</th>\n",
       "    </tr>\n",
       "  </thead>\n",
       "  <tbody>\n",
       "    <tr>\n",
       "      <th>84</th>\n",
       "      <td>84</td>\n",
       "      <td>September 14, 1923</td>\n",
       "      <td>c 18:00</td>\n",
       "      <td>Near Ivinghoe, Buckinghamshire, England</td>\n",
       "      <td>Daimler Airways</td>\n",
       "      <td>?</td>\n",
       "      <td>Croydon - Manchester</td>\n",
       "      <td>de Havilland DH-34</td>\n",
       "      <td>G-EBBS</td>\n",
       "      <td>29</td>\n",
       "      <td>5</td>\n",
       "      <td>3</td>\n",
       "      <td>2</td>\n",
       "      <td>5</td>\n",
       "      <td>3</td>\n",
       "      <td>2</td>\n",
       "      <td>0</td>\n",
       "      <td>Crashed while attempting a forced landing afte...</td>\n",
       "    </tr>\n",
       "    <tr>\n",
       "      <th>87</th>\n",
       "      <td>87</td>\n",
       "      <td>December 23, 1923</td>\n",
       "      <td>c 02:30</td>\n",
       "      <td>Over the Mediterranean Sea</td>\n",
       "      <td>Military - French Navy</td>\n",
       "      <td>?</td>\n",
       "      <td>Toulon - Algiers</td>\n",
       "      <td>Zeppelin Dixmunde (airship)</td>\n",
       "      <td>L-72</td>\n",
       "      <td>?</td>\n",
       "      <td>52</td>\n",
       "      <td>?</td>\n",
       "      <td>?</td>\n",
       "      <td>52</td>\n",
       "      <td>?</td>\n",
       "      <td>?</td>\n",
       "      <td>0</td>\n",
       "      <td>Crashed while on a flight from Toulon, France ...</td>\n",
       "    </tr>\n",
       "    <tr>\n",
       "      <th>95</th>\n",
       "      <td>95</td>\n",
       "      <td>December 24, 1924</td>\n",
       "      <td>c 12:00</td>\n",
       "      <td>Purley, England</td>\n",
       "      <td>Imperial Airways</td>\n",
       "      <td>?</td>\n",
       "      <td>London - Paris</td>\n",
       "      <td>de Havilland DH-34B</td>\n",
       "      <td>G-EBBX</td>\n",
       "      <td>36</td>\n",
       "      <td>8</td>\n",
       "      <td>7</td>\n",
       "      <td>1</td>\n",
       "      <td>8</td>\n",
       "      <td>7</td>\n",
       "      <td>1</td>\n",
       "      <td>0</td>\n",
       "      <td>Shortly after taking off, witnesses observed a...</td>\n",
       "    </tr>\n",
       "    <tr>\n",
       "      <th>117</th>\n",
       "      <td>117</td>\n",
       "      <td>October 21, 1926</td>\n",
       "      <td>c 13:15</td>\n",
       "      <td>English Channel</td>\n",
       "      <td>Imperial Airways</td>\n",
       "      <td>?</td>\n",
       "      <td>Croydon - Paris</td>\n",
       "      <td>Handley Page W-10</td>\n",
       "      <td>G-EBMS</td>\n",
       "      <td>W10/3</td>\n",
       "      <td>12</td>\n",
       "      <td>10</td>\n",
       "      <td>2</td>\n",
       "      <td>0</td>\n",
       "      <td>0</td>\n",
       "      <td>0</td>\n",
       "      <td>0</td>\n",
       "      <td>The plane was on a flight from London to Paris...</td>\n",
       "    </tr>\n",
       "    <tr>\n",
       "      <th>157</th>\n",
       "      <td>157</td>\n",
       "      <td>August 25, 1928</td>\n",
       "      <td>c 11:00</td>\n",
       "      <td>Near Port Townsend, BC, Canada</td>\n",
       "      <td>British Columbia Airways</td>\n",
       "      <td>?</td>\n",
       "      <td>Victoria - Seattle</td>\n",
       "      <td>Ford 4-AT-B Tri Motor</td>\n",
       "      <td>G-CATX</td>\n",
       "      <td>4-AT-26</td>\n",
       "      <td>7</td>\n",
       "      <td>5</td>\n",
       "      <td>2</td>\n",
       "      <td>7</td>\n",
       "      <td>5</td>\n",
       "      <td>2</td>\n",
       "      <td>0</td>\n",
       "      <td>Crashed into Puget Sound in dense fog 12 miles...</td>\n",
       "    </tr>\n",
       "  </tbody>\n",
       "</table>\n",
       "</div>"
      ],
      "text/plain": [
       "     Unnamed: 0               fecha     Hora   \n",
       "84           84  September 14, 1923  c 18:00  \\\n",
       "87           87   December 23, 1923  c 02:30   \n",
       "95           95   December 24, 1924  c 12:00   \n",
       "117         117    October 21, 1926  c 13:15   \n",
       "157         157     August 25, 1928  c 11:00   \n",
       "\n",
       "                                        Ruta                  OperadOR   \n",
       "84   Near Ivinghoe, Buckinghamshire, England           Daimler Airways  \\\n",
       "87                Over the Mediterranean Sea    Military - French Navy   \n",
       "95                           Purley, England          Imperial Airways   \n",
       "117                          English Channel          Imperial Airways   \n",
       "157           Near Port Townsend, BC, Canada  British Columbia Airways   \n",
       "\n",
       "    flight_no                 route                      ac_type registration   \n",
       "84          ?  Croydon - Manchester           de Havilland DH-34       G-EBBS  \\\n",
       "87          ?      Toulon - Algiers  Zeppelin Dixmunde (airship)         L-72   \n",
       "95          ?        London - Paris          de Havilland DH-34B       G-EBBX   \n",
       "117         ?       Croydon - Paris            Handley Page W-10       G-EBMS   \n",
       "157         ?    Victoria - Seattle        Ford 4-AT-B Tri Motor       G-CATX   \n",
       "\n",
       "       cn_ln all_aboard PASAJEROS A BORDO crew_aboard cantidad de fallecidos   \n",
       "84        29          5                 3           2                      5  \\\n",
       "87         ?         52                 ?           ?                     52   \n",
       "95        36          8                 7           1                      8   \n",
       "117    W10/3         12                10           2                      0   \n",
       "157  4-AT-26          7                 5           2                      7   \n",
       "\n",
       "    passenger_fatalities crew_fatalities ground   \n",
       "84                     3               2      0  \\\n",
       "87                     ?               ?      0   \n",
       "95                     7               1      0   \n",
       "117                    0               0      0   \n",
       "157                    5               2      0   \n",
       "\n",
       "                                               summary  \n",
       "84   Crashed while attempting a forced landing afte...  \n",
       "87   Crashed while on a flight from Toulon, France ...  \n",
       "95   Shortly after taking off, witnesses observed a...  \n",
       "117  The plane was on a flight from London to Paris...  \n",
       "157  Crashed into Puget Sound in dense fog 12 miles...  "
      ]
     },
     "execution_count": 93,
     "metadata": {},
     "output_type": "execute_result"
    }
   ],
   "source": [
    "# Se buscan letras en la columna \n",
    "data[data['Hora'].str.contains('[a-zA-Z]')].head()\n"
   ]
  },
  {
   "cell_type": "code",
   "execution_count": 91,
   "metadata": {},
   "outputs": [],
   "source": [
    "# Se identificaron registros incorrectos para no perderlos se remplazamos esas letras por vacio\n",
    "data['Hora'] = data['Hora'].str.replace(r'^c:?', '')\n"
   ]
  },
  {
   "cell_type": "code",
   "execution_count": 95,
   "metadata": {},
   "outputs": [],
   "source": [
    "# Se crea una funcion para extraer solos valores con el formato requerido del campo 'Hora'\n",
    "def extraer_hora_minutos(texto):\n",
    "    # Utiliza una expresión regular para buscar un patrón de hora y minutos\n",
    "    patron = r'(\\d{1,2})[ :]?(\\d{2})'\n",
    "    coincidencia = re.search(patron, str(texto))\n",
    "    if coincidencia:\n",
    "        hora = coincidencia.group(1)\n",
    "        minutos = coincidencia.group(2)\n",
    "        return f'{hora.zfill(2)}:{minutos.zfill(2)}'\n",
    "    return None\n",
    "\n",
    "# Aplica la función para extraer la hora y los minutos a la columna 'Hora'\n",
    "data['Hora_Minutos'] = data['Hora'].apply(lambda x: extraer_hora_minutos(x))\n"
   ]
  },
  {
   "cell_type": "code",
   "execution_count": 104,
   "metadata": {},
   "outputs": [],
   "source": [
    "data['FranjaHoraria'] = data['Hora_Minutos'].str.split(':').str[0]\n"
   ]
  },
  {
   "cell_type": "code",
   "execution_count": 201,
   "metadata": {},
   "outputs": [
    {
     "data": {
      "text/html": [
       "<div>\n",
       "<style scoped>\n",
       "    .dataframe tbody tr th:only-of-type {\n",
       "        vertical-align: middle;\n",
       "    }\n",
       "\n",
       "    .dataframe tbody tr th {\n",
       "        vertical-align: top;\n",
       "    }\n",
       "\n",
       "    .dataframe thead th {\n",
       "        text-align: right;\n",
       "    }\n",
       "</style>\n",
       "<table border=\"1\" class=\"dataframe\">\n",
       "  <thead>\n",
       "    <tr style=\"text-align: right;\">\n",
       "      <th></th>\n",
       "      <th>No.</th>\n",
       "      <th>Hora_Minutos</th>\n",
       "      <th>FranjaHoraria</th>\n",
       "    </tr>\n",
       "  </thead>\n",
       "  <tbody>\n",
       "    <tr>\n",
       "      <th>0</th>\n",
       "      <td>0</td>\n",
       "      <td>17:18</td>\n",
       "      <td>17</td>\n",
       "    </tr>\n",
       "    <tr>\n",
       "      <th>1</th>\n",
       "      <td>1</td>\n",
       "      <td>None</td>\n",
       "      <td>None</td>\n",
       "    </tr>\n",
       "    <tr>\n",
       "      <th>2</th>\n",
       "      <td>2</td>\n",
       "      <td>06:30</td>\n",
       "      <td>06</td>\n",
       "    </tr>\n",
       "    <tr>\n",
       "      <th>3</th>\n",
       "      <td>3</td>\n",
       "      <td>None</td>\n",
       "      <td>None</td>\n",
       "    </tr>\n",
       "    <tr>\n",
       "      <th>4</th>\n",
       "      <td>4</td>\n",
       "      <td>18:30</td>\n",
       "      <td>18</td>\n",
       "    </tr>\n",
       "    <tr>\n",
       "      <th>...</th>\n",
       "      <td>...</td>\n",
       "      <td>...</td>\n",
       "      <td>...</td>\n",
       "    </tr>\n",
       "    <tr>\n",
       "      <th>5003</th>\n",
       "      <td>5003</td>\n",
       "      <td>18:35</td>\n",
       "      <td>18</td>\n",
       "    </tr>\n",
       "    <tr>\n",
       "      <th>5004</th>\n",
       "      <td>5004</td>\n",
       "      <td>18:00</td>\n",
       "      <td>18</td>\n",
       "    </tr>\n",
       "    <tr>\n",
       "      <th>5005</th>\n",
       "      <td>5005</td>\n",
       "      <td>08:00</td>\n",
       "      <td>08</td>\n",
       "    </tr>\n",
       "    <tr>\n",
       "      <th>5006</th>\n",
       "      <td>5006</td>\n",
       "      <td>11:30</td>\n",
       "      <td>11</td>\n",
       "    </tr>\n",
       "    <tr>\n",
       "      <th>5007</th>\n",
       "      <td>5007</td>\n",
       "      <td>15:00</td>\n",
       "      <td>15</td>\n",
       "    </tr>\n",
       "  </tbody>\n",
       "</table>\n",
       "<p>5008 rows × 3 columns</p>\n",
       "</div>"
      ],
      "text/plain": [
       "       No. Hora_Minutos FranjaHoraria\n",
       "0        0        17:18            17\n",
       "1        1         None          None\n",
       "2        2        06:30            06\n",
       "3        3         None          None\n",
       "4        4        18:30            18\n",
       "...    ...          ...           ...\n",
       "5003  5003        18:35            18\n",
       "5004  5004        18:00            18\n",
       "5005  5005        08:00            08\n",
       "5006  5006        11:30            11\n",
       "5007  5007        15:00            15\n",
       "\n",
       "[5008 rows x 3 columns]"
      ]
     },
     "execution_count": 201,
     "metadata": {},
     "output_type": "execute_result"
    }
   ],
   "source": [
    "# Se crea esta datraframe, para luego borrar nulos y evaluar las horas en base a la informacion disponible\n",
    "Hora = data[['No.','Hora_Minutos','FranjaHoraria']].copy()\n",
    "Hora"
   ]
  },
  {
   "cell_type": "code",
   "execution_count": 202,
   "metadata": {},
   "outputs": [],
   "source": [
    "# Se borran los nulos\n",
    "Hora= Hora.dropna()"
   ]
  },
  {
   "cell_type": "code",
   "execution_count": 203,
   "metadata": {},
   "outputs": [
    {
     "data": {
      "text/plain": [
       "(3501, 3)"
      ]
     },
     "execution_count": 203,
     "metadata": {},
     "output_type": "execute_result"
    }
   ],
   "source": [
    "Hora.shape"
   ]
  },
  {
   "cell_type": "code",
   "execution_count": 250,
   "metadata": {},
   "outputs": [],
   "source": [
    "Hora.to_csv('Hora.csv')"
   ]
  },
  {
   "cell_type": "code",
   "execution_count": 312,
   "metadata": {},
   "outputs": [],
   "source": [
    "# Observamos la columna 'Ruta'\n",
    "Ruta=data[['No.','Ruta']].copy()"
   ]
  },
  {
   "cell_type": "code",
   "execution_count": 313,
   "metadata": {},
   "outputs": [
    {
     "data": {
      "text/plain": [
       "(5003, 2)"
      ]
     },
     "execution_count": 313,
     "metadata": {},
     "output_type": "execute_result"
    }
   ],
   "source": [
    "#Operador =Operador[Operador['OperadOR'] != '?']\n",
    "Ruta = Ruta[Ruta['Ruta'] != '?']\n",
    "Ruta.shape"
   ]
  },
  {
   "cell_type": "code",
   "execution_count": 315,
   "metadata": {},
   "outputs": [
    {
     "ename": "",
     "evalue": "",
     "output_type": "error",
     "traceback": [
      "\u001b[1;31mThe Kernel crashed while executing code in the the current cell or a previous cell. Please review the code in the cell(s) to identify a possible cause of the failure. Click <a href='https://aka.ms/vscodeJupyterKernelCrash'>here</a> for more info. View Jupyter <a href='command:jupyter.viewOutput'>log</a> for further details."
     ]
    }
   ],
   "source": [
    "Ruta.to_csv('Ruta.csv')"
   ]
  },
  {
   "cell_type": "code",
   "execution_count": 207,
   "metadata": {},
   "outputs": [
    {
     "name": "stdout",
     "output_type": "stream",
     "text": [
      "   No.                OperadOR\n",
      "0    0    Military - U.S. Army\n",
      "1    1                       ?\n",
      "2    2    Military - U.S. Navy\n",
      "3    3                 Private\n",
      "4    4  Military - German Navy\n",
      "(5008, 2)\n"
     ]
    }
   ],
   "source": [
    "# Observamos la columna 'OperadOR' \n",
    "Operador = data[['No.','OperadOR']].copy()\n",
    "print(Operador.head())\n",
    "print(Operador.shape)\n"
   ]
  },
  {
   "cell_type": "code",
   "execution_count": 208,
   "metadata": {},
   "outputs": [
    {
     "data": {
      "text/plain": [
       "(4998, 2)"
      ]
     },
     "execution_count": 208,
     "metadata": {},
     "output_type": "execute_result"
    }
   ],
   "source": [
    "#Obtenemos los datos disponibles\n",
    "Operador =Operador[Operador['OperadOR'] != '?']\n",
    "Operador.shape\n"
   ]
  },
  {
   "cell_type": "code",
   "execution_count": 252,
   "metadata": {},
   "outputs": [],
   "source": [
    "Operador.to_csv('Operador.csv')"
   ]
  },
  {
   "cell_type": "code",
   "execution_count": 141,
   "metadata": {},
   "outputs": [],
   "source": [
    "data.rename(columns={'ac_type': 'Tipo_aeronave'}, inplace=True)"
   ]
  },
  {
   "cell_type": "code",
   "execution_count": 209,
   "metadata": {},
   "outputs": [],
   "source": [
    "aeronave = data[['No.','Tipo_aeronave']].copy()"
   ]
  },
  {
   "cell_type": "code",
   "execution_count": 210,
   "metadata": {},
   "outputs": [
    {
     "name": "stdout",
     "output_type": "stream",
     "text": [
      "   No.           Tipo_aeronave\n",
      "0    0        Wright Flyer III\n",
      "1    1          Wright Byplane\n",
      "2    2               Dirigible\n",
      "3    3        Curtiss seaplane\n",
      "4    4  Zeppelin L-1 (airship)\n",
      "(4995, 2)\n"
     ]
    }
   ],
   "source": [
    "aeronave = aeronave[aeronave['Tipo_aeronave'] != '?']\n",
    "print(aeronave.head())\n",
    "print(aeronave.shape)"
   ]
  },
  {
   "cell_type": "code",
   "execution_count": 254,
   "metadata": {},
   "outputs": [
    {
     "data": {
      "text/html": [
       "<div>\n",
       "<style scoped>\n",
       "    .dataframe tbody tr th:only-of-type {\n",
       "        vertical-align: middle;\n",
       "    }\n",
       "\n",
       "    .dataframe tbody tr th {\n",
       "        vertical-align: top;\n",
       "    }\n",
       "\n",
       "    .dataframe thead th {\n",
       "        text-align: right;\n",
       "    }\n",
       "</style>\n",
       "<table border=\"1\" class=\"dataframe\">\n",
       "  <thead>\n",
       "    <tr style=\"text-align: right;\">\n",
       "      <th></th>\n",
       "      <th>No.</th>\n",
       "      <th>all_aboard</th>\n",
       "      <th>PASAJEROS A BORDO</th>\n",
       "      <th>crew_aboard</th>\n",
       "      <th>cantidad de fallecidos</th>\n",
       "      <th>passenger_fatalities</th>\n",
       "      <th>crew_fatalities</th>\n",
       "    </tr>\n",
       "  </thead>\n",
       "  <tbody>\n",
       "    <tr>\n",
       "      <th>0</th>\n",
       "      <td>0</td>\n",
       "      <td>2</td>\n",
       "      <td>1</td>\n",
       "      <td>1</td>\n",
       "      <td>1</td>\n",
       "      <td>1</td>\n",
       "      <td>0</td>\n",
       "    </tr>\n",
       "    <tr>\n",
       "      <th>1</th>\n",
       "      <td>1</td>\n",
       "      <td>1</td>\n",
       "      <td>0</td>\n",
       "      <td>1</td>\n",
       "      <td>1</td>\n",
       "      <td>0</td>\n",
       "      <td>0</td>\n",
       "    </tr>\n",
       "    <tr>\n",
       "      <th>2</th>\n",
       "      <td>2</td>\n",
       "      <td>5</td>\n",
       "      <td>0</td>\n",
       "      <td>5</td>\n",
       "      <td>5</td>\n",
       "      <td>0</td>\n",
       "      <td>5</td>\n",
       "    </tr>\n",
       "    <tr>\n",
       "      <th>3</th>\n",
       "      <td>3</td>\n",
       "      <td>1</td>\n",
       "      <td>0</td>\n",
       "      <td>1</td>\n",
       "      <td>1</td>\n",
       "      <td>0</td>\n",
       "      <td>1</td>\n",
       "    </tr>\n",
       "    <tr>\n",
       "      <th>4</th>\n",
       "      <td>4</td>\n",
       "      <td>20</td>\n",
       "      <td>?</td>\n",
       "      <td>?</td>\n",
       "      <td>14</td>\n",
       "      <td>?</td>\n",
       "      <td>?</td>\n",
       "    </tr>\n",
       "  </tbody>\n",
       "</table>\n",
       "</div>"
      ],
      "text/plain": [
       "   No. all_aboard PASAJEROS A BORDO crew_aboard cantidad de fallecidos   \n",
       "0    0          2                 1           1                      1  \\\n",
       "1    1          1                 0           1                      1   \n",
       "2    2          5                 0           5                      5   \n",
       "3    3          1                 0           1                      1   \n",
       "4    4         20                 ?           ?                     14   \n",
       "\n",
       "  passenger_fatalities crew_fatalities  \n",
       "0                    1               0  \n",
       "1                    0               0  \n",
       "2                    0               5  \n",
       "3                    0               1  \n",
       "4                    ?               ?  "
      ]
     },
     "execution_count": 254,
     "metadata": {},
     "output_type": "execute_result"
    }
   ],
   "source": [
    "data[['No.','all_aboard','PASAJEROS A BORDO','crew_aboard','cantidad de fallecidos','passenger_fatalities','crew_fatalities']].head()"
   ]
  },
  {
   "cell_type": "code",
   "execution_count": 211,
   "metadata": {},
   "outputs": [],
   "source": [
    "Tripulacion = data[['No.','all_aboard','cantidad de fallecidos',]].copy()\n",
    "\n"
   ]
  },
  {
   "cell_type": "code",
   "execution_count": 245,
   "metadata": {},
   "outputs": [
    {
     "name": "stdout",
     "output_type": "stream",
     "text": [
      "<class 'pandas.core.frame.DataFrame'>\n",
      "Index: 4991 entries, 0 to 5007\n",
      "Data columns (total 3 columns):\n",
      " #   Column                  Non-Null Count  Dtype\n",
      "---  ------                  --------------  -----\n",
      " 0   No.                     4991 non-null   int64\n",
      " 1   all_aboard              4991 non-null   int32\n",
      " 2   cantidad de fallecidos  4991 non-null   int32\n",
      "dtypes: int32(2), int64(1)\n",
      "memory usage: 117.0 KB\n"
     ]
    },
    {
     "data": {
      "text/plain": [
       "(4991, 3)"
      ]
     },
     "execution_count": 245,
     "metadata": {},
     "output_type": "execute_result"
    }
   ],
   "source": [
    "Tripulacion=Tripulacion[Tripulacion['all_aboard'] != '?']\n",
    "Tripulacion.info() \n",
    "Tripulacion.shape"
   ]
  },
  {
   "cell_type": "code",
   "execution_count": 213,
   "metadata": {},
   "outputs": [],
   "source": [
    "# Convertir las columnas a tipos de datos numéricos (enteros)\n",
    "Tripulacion['all_aboard'] = Tripulacion['all_aboard'].astype(int)\n",
    "Tripulacion['cantidad de fallecidos'] = Tripulacion['cantidad de fallecidos'].astype(int)\n"
   ]
  },
  {
   "cell_type": "code",
   "execution_count": 246,
   "metadata": {},
   "outputs": [],
   "source": [
    "Tripulacion.to_csv('Tripulacion.csv')"
   ]
  },
  {
   "cell_type": "code",
   "execution_count": 277,
   "metadata": {},
   "outputs": [],
   "source": [
    "detalle_Trip = data[['No.','all_aboard','PASAJEROS A BORDO','crew_aboard','cantidad de fallecidos','passenger_fatalities','crew_fatalities']].copy()"
   ]
  },
  {
   "cell_type": "code",
   "execution_count": 278,
   "metadata": {},
   "outputs": [],
   "source": [
    "detalle_Trip = detalle_Trip[detalle_Trip.ne('?').all(1)]\n"
   ]
  },
  {
   "cell_type": "code",
   "execution_count": 285,
   "metadata": {},
   "outputs": [],
   "source": [
    "detalle_Trip.rename(columns={'all_aboard':'Trip_abord','PASAJEROS A BORDO':'Pasajeros','crew_aboard':'Personal','cantidad de fallecidos':'Total_Falle','passenger_fatalities':'Pasajeros_falle','crew_fatalities':'Personal_falle'}, inplace=True)"
   ]
  },
  {
   "cell_type": "code",
   "execution_count": 286,
   "metadata": {},
   "outputs": [
    {
     "name": "stdout",
     "output_type": "stream",
     "text": [
      "<class 'pandas.core.frame.DataFrame'>\n",
      "Index: 4765 entries, 0 to 5007\n",
      "Data columns (total 7 columns):\n",
      " #   Column           Non-Null Count  Dtype\n",
      "---  ------           --------------  -----\n",
      " 0   No.              4765 non-null   int64\n",
      " 1   Trip_abord       4765 non-null   int32\n",
      " 2   Pasajeros        4765 non-null   int32\n",
      " 3   Personal         4765 non-null   int32\n",
      " 4   Total_Falle      4765 non-null   int32\n",
      " 5   Pasajeros_falle  4765 non-null   int32\n",
      " 6   Personal_falle   4765 non-null   int32\n",
      "dtypes: int32(6), int64(1)\n",
      "memory usage: 186.1 KB\n"
     ]
    },
    {
     "data": {
      "text/plain": [
       "(4765, 7)"
      ]
     },
     "execution_count": 286,
     "metadata": {},
     "output_type": "execute_result"
    }
   ],
   "source": [
    "detalle_Trip.info() \n",
    "detalle_Trip.shape"
   ]
  },
  {
   "cell_type": "code",
   "execution_count": 281,
   "metadata": {},
   "outputs": [],
   "source": [
    "detalle_Trip['all_aboard'] = detalle_Trip['all_aboard'].astype(int)\n",
    "detalle_Trip['PASAJEROS A BORDO'] = detalle_Trip['PASAJEROS A BORDO'].astype(int)\n",
    "detalle_Trip['crew_aboard'] = detalle_Trip['crew_aboard'].astype(int)\n",
    "detalle_Trip['cantidad de fallecidos'] = detalle_Trip['cantidad de fallecidos'].astype(int)\n",
    "detalle_Trip['passenger_fatalities'] = detalle_Trip['passenger_fatalities'].astype(int)\n",
    "detalle_Trip['crew_fatalities'] = detalle_Trip['crew_fatalities'].astype(int)"
   ]
  },
  {
   "cell_type": "code",
   "execution_count": 290,
   "metadata": {},
   "outputs": [
    {
     "data": {
      "text/html": [
       "<div>\n",
       "<style scoped>\n",
       "    .dataframe tbody tr th:only-of-type {\n",
       "        vertical-align: middle;\n",
       "    }\n",
       "\n",
       "    .dataframe tbody tr th {\n",
       "        vertical-align: top;\n",
       "    }\n",
       "\n",
       "    .dataframe thead th {\n",
       "        text-align: right;\n",
       "    }\n",
       "</style>\n",
       "<table border=\"1\" class=\"dataframe\">\n",
       "  <thead>\n",
       "    <tr style=\"text-align: right;\">\n",
       "      <th></th>\n",
       "      <th>No.</th>\n",
       "      <th>Trip_abord</th>\n",
       "      <th>Pasajeros</th>\n",
       "      <th>Personal</th>\n",
       "      <th>Total_Falle</th>\n",
       "      <th>Pasajeros_falle</th>\n",
       "      <th>Personal_falle</th>\n",
       "    </tr>\n",
       "  </thead>\n",
       "  <tbody>\n",
       "    <tr>\n",
       "      <th>0</th>\n",
       "      <td>0</td>\n",
       "      <td>2</td>\n",
       "      <td>1</td>\n",
       "      <td>1</td>\n",
       "      <td>1</td>\n",
       "      <td>1</td>\n",
       "      <td>0</td>\n",
       "    </tr>\n",
       "    <tr>\n",
       "      <th>1</th>\n",
       "      <td>1</td>\n",
       "      <td>1</td>\n",
       "      <td>0</td>\n",
       "      <td>1</td>\n",
       "      <td>1</td>\n",
       "      <td>0</td>\n",
       "      <td>0</td>\n",
       "    </tr>\n",
       "    <tr>\n",
       "      <th>2</th>\n",
       "      <td>2</td>\n",
       "      <td>5</td>\n",
       "      <td>0</td>\n",
       "      <td>5</td>\n",
       "      <td>5</td>\n",
       "      <td>0</td>\n",
       "      <td>5</td>\n",
       "    </tr>\n",
       "    <tr>\n",
       "      <th>3</th>\n",
       "      <td>3</td>\n",
       "      <td>1</td>\n",
       "      <td>0</td>\n",
       "      <td>1</td>\n",
       "      <td>1</td>\n",
       "      <td>0</td>\n",
       "      <td>1</td>\n",
       "    </tr>\n",
       "    <tr>\n",
       "      <th>6</th>\n",
       "      <td>6</td>\n",
       "      <td>41</td>\n",
       "      <td>0</td>\n",
       "      <td>41</td>\n",
       "      <td>17</td>\n",
       "      <td>0</td>\n",
       "      <td>17</td>\n",
       "    </tr>\n",
       "  </tbody>\n",
       "</table>\n",
       "</div>"
      ],
      "text/plain": [
       "   No.  Trip_abord  Pasajeros  Personal  Total_Falle  Pasajeros_falle   \n",
       "0    0           2          1         1            1                1  \\\n",
       "1    1           1          0         1            1                0   \n",
       "2    2           5          0         5            5                0   \n",
       "3    3           1          0         1            1                0   \n",
       "6    6          41          0        41           17                0   \n",
       "\n",
       "   Personal_falle  \n",
       "0               0  \n",
       "1               0  \n",
       "2               5  \n",
       "3               1  \n",
       "6              17  "
      ]
     },
     "execution_count": 290,
     "metadata": {},
     "output_type": "execute_result"
    }
   ],
   "source": [
    "detalle_Trip.head()"
   ]
  },
  {
   "cell_type": "code",
   "execution_count": 292,
   "metadata": {},
   "outputs": [],
   "source": [
    "detalle_Trip.to_csv('Tripulaciondetallada.csv')"
   ]
  },
  {
   "cell_type": "code",
   "execution_count": 216,
   "metadata": {},
   "outputs": [],
   "source": [
    "# Estdiamos el campo 'ground', por lo que creamos otro dataframe\n",
    "Muerte_tierra = data[['No.','ground']].copy()\n",
    "Muerte_tierra = Muerte_tierra[Muerte_tierra['ground'] != '?']\n",
    "Muerte_tierra = Muerte_tierra.astype(int)\n"
   ]
  },
  {
   "cell_type": "code",
   "execution_count": 293,
   "metadata": {},
   "outputs": [],
   "source": [
    "Muerte_tierra.to_csv('Muerte_tierra.csv')"
   ]
  },
  {
   "cell_type": "code",
   "execution_count": 226,
   "metadata": {},
   "outputs": [
    {
     "data": {
      "text/plain": [
       "'During a demonstration flight, a U.S. Army flyer flown by Orville Wright nose-dived into the ground from a height of approximately 75 feet, killing Lt. Thomas E. Selfridge, 26, who was a passenger. This was the first recorded airplane fatality in history.  One of two propellers separated in flight, tearing loose the wires bracing the rudder and causing the loss of control of the aircraft.  Orville Wright suffered broken ribs, pelvis and a leg.  Selfridge suffered a crushed skull and died a short time later.'"
      ]
     },
     "execution_count": 226,
     "metadata": {},
     "output_type": "execute_result"
    }
   ],
   "source": [
    "data['summary'][0]"
   ]
  },
  {
   "cell_type": "code",
   "execution_count": 237,
   "metadata": {},
   "outputs": [
    {
     "name": "stdout",
     "output_type": "stream",
     "text": [
      "<class 'pandas.core.frame.DataFrame'>\n",
      "RangeIndex: 5008 entries, 0 to 5007\n",
      "Data columns (total 3 columns):\n",
      " #   Column   Non-Null Count  Dtype \n",
      "---  ------   --------------  ----- \n",
      " 0   No.      5008 non-null   int64 \n",
      " 1   summary  5008 non-null   object\n",
      " 2   año      5008 non-null   int32 \n",
      "dtypes: int32(1), int64(1), object(1)\n",
      "memory usage: 97.9+ KB\n"
     ]
    }
   ],
   "source": [
    "descripcion = data[['No.','summary','año']].copy()\n",
    "descripcion.info()\n"
   ]
  },
  {
   "cell_type": "code",
   "execution_count": 295,
   "metadata": {},
   "outputs": [],
   "source": [
    "descripcion.to_csv('descripcion.csv')"
   ]
  }
 ],
 "metadata": {
  "kernelspec": {
   "display_name": "Python 3",
   "language": "python",
   "name": "python3"
  },
  "language_info": {
   "codemirror_mode": {
    "name": "ipython",
    "version": 3
   },
   "file_extension": ".py",
   "mimetype": "text/x-python",
   "name": "python",
   "nbconvert_exporter": "python",
   "pygments_lexer": "ipython3",
   "version": "3.10.11"
  },
  "orig_nbformat": 4
 },
 "nbformat": 4,
 "nbformat_minor": 2
}
